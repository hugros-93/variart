{
 "metadata": {
  "language_info": {
   "codemirror_mode": {
    "name": "ipython",
    "version": 3
   },
   "file_extension": ".py",
   "mimetype": "text/x-python",
   "name": "python",
   "nbconvert_exporter": "python",
   "pygments_lexer": "ipython3",
   "version": "3.7.9-final"
  },
  "orig_nbformat": 2,
  "kernelspec": {
   "name": "python3",
   "display_name": "Python 3.7.9 64-bit",
   "metadata": {
    "interpreter": {
     "hash": "895a78e48e27132c5d7a6edd994932761e063e4c71477c1b7a9b7172c06f08fc"
    }
   }
  }
 },
 "nbformat": 4,
 "nbformat_minor": 2,
 "cells": [
  {
   "source": [
    "# vari'art: \n",
    "### Example of latent analysis of a rap clip"
   ],
   "cell_type": "markdown",
   "metadata": {}
  },
  {
   "cell_type": "code",
   "execution_count": 2,
   "metadata": {},
   "outputs": [],
   "source": [
    "import numpy as np\n",
    "import pandas as pd\n",
    "import random\n",
    "from sklearn.utils import shuffle\n",
    "import tensorflow as tf\n",
    "from tensorflow.keras.layers import (\n",
    "    InputLayer, \n",
    "    Dense, \n",
    "    Reshape, \n",
    "    Flatten, \n",
    "    Dropout, \n",
    "    Conv2D, \n",
    "    Conv2DTranspose, \n",
    "    MaxPool2D,\n",
    "    BatchNormalization\n",
    ")\n",
    "from tensorflow.keras.optimizers import Adam\n",
    "from tensorflow_addons.optimizers import Lookahead\n",
    "\n",
    "from variart.preprocessing import ArtVideo\n",
    "from variart.model import VAE\n",
    "from variart.latent import Latent"
   ]
  },
  {
   "source": [
    "## 1. Load data and preprocessing"
   ],
   "cell_type": "markdown",
   "metadata": {}
  },
  {
   "cell_type": "code",
   "execution_count": 4,
   "metadata": {},
   "outputs": [
    {
     "output_type": "stream",
     "name": "stdout",
     "text": [
      "Shape DrillFR4: (6692, 64, 64, 3)\n"
     ]
    }
   ],
   "source": [
    "# Load video\n",
    "name = 'DrillFR4' \n",
    "filename = 'inputs/DrillFR4.mp4'\n",
    "DrillFR4 = ArtVideo(name, filename)\n",
    "DrillFR4.load_video()\n",
    "\n",
    "# Crop images as squares\n",
    "DrillFR4.square()\n",
    "\n",
    "# Resize images\n",
    "size = 64\n",
    "new_shape=(size,size)\n",
    "DrillFR4.resize(new_shape=new_shape)\n",
    "\n",
    "# Rescale pixels in (0,1)\n",
    "DrillFR4.rescale_image()\n",
    "\n",
    "# Input data shape\n",
    "print(f\"Shape {DrillFR4.name}: {DrillFR4.shape}\")"
   ]
  },
  {
   "cell_type": "code",
   "execution_count": 7,
   "metadata": {},
   "outputs": [
    {
     "output_type": "display_data",
     "data": {
      "application/vnd.plotly.v1+json": {
       "config": {
        "plotlyServerURL": "https://plot.ly"
       },
       "data": [
        {
         "hovertemplate": "x: %{x}<br>y: %{y}<extra></extra>",
         "name": "0",
         "source": "data:image/png;base64,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",
         "type": "image",
         "xaxis": "x",
         "yaxis": "y"
        }
       ],
       "layout": {
        "coloraxis": {
         "showscale": false
        },
        "margin": {
         "b": 0,
         "l": 0,
         "r": 0,
         "t": 0
        },
        "template": {
         "data": {
          "bar": [
           {
            "error_x": {
             "color": "#2a3f5f"
            },
            "error_y": {
             "color": "#2a3f5f"
            },
            "marker": {
             "line": {
              "color": "#E5ECF6",
              "width": 0.5
             }
            },
            "type": "bar"
           }
          ],
          "barpolar": [
           {
            "marker": {
             "line": {
              "color": "#E5ECF6",
              "width": 0.5
             }
            },
            "type": "barpolar"
           }
          ],
          "carpet": [
           {
            "aaxis": {
             "endlinecolor": "#2a3f5f",
             "gridcolor": "white",
             "linecolor": "white",
             "minorgridcolor": "white",
             "startlinecolor": "#2a3f5f"
            },
            "baxis": {
             "endlinecolor": "#2a3f5f",
             "gridcolor": "white",
             "linecolor": "white",
             "minorgridcolor": "white",
             "startlinecolor": "#2a3f5f"
            },
            "type": "carpet"
           }
          ],
          "choropleth": [
           {
            "colorbar": {
             "outlinewidth": 0,
             "ticks": ""
            },
            "type": "choropleth"
           }
          ],
          "contour": [
           {
            "colorbar": {
             "outlinewidth": 0,
             "ticks": ""
            },
            "colorscale": [
             [
              0,
              "#0d0887"
             ],
             [
              0.1111111111111111,
              "#46039f"
             ],
             [
              0.2222222222222222,
              "#7201a8"
             ],
             [
              0.3333333333333333,
              "#9c179e"
             ],
             [
              0.4444444444444444,
              "#bd3786"
             ],
             [
              0.5555555555555556,
              "#d8576b"
             ],
             [
              0.6666666666666666,
              "#ed7953"
             ],
             [
              0.7777777777777778,
              "#fb9f3a"
             ],
             [
              0.8888888888888888,
              "#fdca26"
             ],
             [
              1,
              "#f0f921"
             ]
            ],
            "type": "contour"
           }
          ],
          "contourcarpet": [
           {
            "colorbar": {
             "outlinewidth": 0,
             "ticks": ""
            },
            "type": "contourcarpet"
           }
          ],
          "heatmap": [
           {
            "colorbar": {
             "outlinewidth": 0,
             "ticks": ""
            },
            "colorscale": [
             [
              0,
              "#0d0887"
             ],
             [
              0.1111111111111111,
              "#46039f"
             ],
             [
              0.2222222222222222,
              "#7201a8"
             ],
             [
              0.3333333333333333,
              "#9c179e"
             ],
             [
              0.4444444444444444,
              "#bd3786"
             ],
             [
              0.5555555555555556,
              "#d8576b"
             ],
             [
              0.6666666666666666,
              "#ed7953"
             ],
             [
              0.7777777777777778,
              "#fb9f3a"
             ],
             [
              0.8888888888888888,
              "#fdca26"
             ],
             [
              1,
              "#f0f921"
             ]
            ],
            "type": "heatmap"
           }
          ],
          "heatmapgl": [
           {
            "colorbar": {
             "outlinewidth": 0,
             "ticks": ""
            },
            "colorscale": [
             [
              0,
              "#0d0887"
             ],
             [
              0.1111111111111111,
              "#46039f"
             ],
             [
              0.2222222222222222,
              "#7201a8"
             ],
             [
              0.3333333333333333,
              "#9c179e"
             ],
             [
              0.4444444444444444,
              "#bd3786"
             ],
             [
              0.5555555555555556,
              "#d8576b"
             ],
             [
              0.6666666666666666,
              "#ed7953"
             ],
             [
              0.7777777777777778,
              "#fb9f3a"
             ],
             [
              0.8888888888888888,
              "#fdca26"
             ],
             [
              1,
              "#f0f921"
             ]
            ],
            "type": "heatmapgl"
           }
          ],
          "histogram": [
           {
            "marker": {
             "colorbar": {
              "outlinewidth": 0,
              "ticks": ""
             }
            },
            "type": "histogram"
           }
          ],
          "histogram2d": [
           {
            "colorbar": {
             "outlinewidth": 0,
             "ticks": ""
            },
            "colorscale": [
             [
              0,
              "#0d0887"
             ],
             [
              0.1111111111111111,
              "#46039f"
             ],
             [
              0.2222222222222222,
              "#7201a8"
             ],
             [
              0.3333333333333333,
              "#9c179e"
             ],
             [
              0.4444444444444444,
              "#bd3786"
             ],
             [
              0.5555555555555556,
              "#d8576b"
             ],
             [
              0.6666666666666666,
              "#ed7953"
             ],
             [
              0.7777777777777778,
              "#fb9f3a"
             ],
             [
              0.8888888888888888,
              "#fdca26"
             ],
             [
              1,
              "#f0f921"
             ]
            ],
            "type": "histogram2d"
           }
          ],
          "histogram2dcontour": [
           {
            "colorbar": {
             "outlinewidth": 0,
             "ticks": ""
            },
            "colorscale": [
             [
              0,
              "#0d0887"
             ],
             [
              0.1111111111111111,
              "#46039f"
             ],
             [
              0.2222222222222222,
              "#7201a8"
             ],
             [
              0.3333333333333333,
              "#9c179e"
             ],
             [
              0.4444444444444444,
              "#bd3786"
             ],
             [
              0.5555555555555556,
              "#d8576b"
             ],
             [
              0.6666666666666666,
              "#ed7953"
             ],
             [
              0.7777777777777778,
              "#fb9f3a"
             ],
             [
              0.8888888888888888,
              "#fdca26"
             ],
             [
              1,
              "#f0f921"
             ]
            ],
            "type": "histogram2dcontour"
           }
          ],
          "mesh3d": [
           {
            "colorbar": {
             "outlinewidth": 0,
             "ticks": ""
            },
            "type": "mesh3d"
           }
          ],
          "parcoords": [
           {
            "line": {
             "colorbar": {
              "outlinewidth": 0,
              "ticks": ""
             }
            },
            "type": "parcoords"
           }
          ],
          "pie": [
           {
            "automargin": true,
            "type": "pie"
           }
          ],
          "scatter": [
           {
            "marker": {
             "colorbar": {
              "outlinewidth": 0,
              "ticks": ""
             }
            },
            "type": "scatter"
           }
          ],
          "scatter3d": [
           {
            "line": {
             "colorbar": {
              "outlinewidth": 0,
              "ticks": ""
             }
            },
            "marker": {
             "colorbar": {
              "outlinewidth": 0,
              "ticks": ""
             }
            },
            "type": "scatter3d"
           }
          ],
          "scattercarpet": [
           {
            "marker": {
             "colorbar": {
              "outlinewidth": 0,
              "ticks": ""
             }
            },
            "type": "scattercarpet"
           }
          ],
          "scattergeo": [
           {
            "marker": {
             "colorbar": {
              "outlinewidth": 0,
              "ticks": ""
             }
            },
            "type": "scattergeo"
           }
          ],
          "scattergl": [
           {
            "marker": {
             "colorbar": {
              "outlinewidth": 0,
              "ticks": ""
             }
            },
            "type": "scattergl"
           }
          ],
          "scattermapbox": [
           {
            "marker": {
             "colorbar": {
              "outlinewidth": 0,
              "ticks": ""
             }
            },
            "type": "scattermapbox"
           }
          ],
          "scatterpolar": [
           {
            "marker": {
             "colorbar": {
              "outlinewidth": 0,
              "ticks": ""
             }
            },
            "type": "scatterpolar"
           }
          ],
          "scatterpolargl": [
           {
            "marker": {
             "colorbar": {
              "outlinewidth": 0,
              "ticks": ""
             }
            },
            "type": "scatterpolargl"
           }
          ],
          "scatterternary": [
           {
            "marker": {
             "colorbar": {
              "outlinewidth": 0,
              "ticks": ""
             }
            },
            "type": "scatterternary"
           }
          ],
          "surface": [
           {
            "colorbar": {
             "outlinewidth": 0,
             "ticks": ""
            },
            "colorscale": [
             [
              0,
              "#0d0887"
             ],
             [
              0.1111111111111111,
              "#46039f"
             ],
             [
              0.2222222222222222,
              "#7201a8"
             ],
             [
              0.3333333333333333,
              "#9c179e"
             ],
             [
              0.4444444444444444,
              "#bd3786"
             ],
             [
              0.5555555555555556,
              "#d8576b"
             ],
             [
              0.6666666666666666,
              "#ed7953"
             ],
             [
              0.7777777777777778,
              "#fb9f3a"
             ],
             [
              0.8888888888888888,
              "#fdca26"
             ],
             [
              1,
              "#f0f921"
             ]
            ],
            "type": "surface"
           }
          ],
          "table": [
           {
            "cells": {
             "fill": {
              "color": "#EBF0F8"
             },
             "line": {
              "color": "white"
             }
            },
            "header": {
             "fill": {
              "color": "#C8D4E3"
             },
             "line": {
              "color": "white"
             }
            },
            "type": "table"
           }
          ]
         },
         "layout": {
          "annotationdefaults": {
           "arrowcolor": "#2a3f5f",
           "arrowhead": 0,
           "arrowwidth": 1
          },
          "autotypenumbers": "strict",
          "coloraxis": {
           "colorbar": {
            "outlinewidth": 0,
            "ticks": ""
           }
          },
          "colorscale": {
           "diverging": [
            [
             0,
             "#8e0152"
            ],
            [
             0.1,
             "#c51b7d"
            ],
            [
             0.2,
             "#de77ae"
            ],
            [
             0.3,
             "#f1b6da"
            ],
            [
             0.4,
             "#fde0ef"
            ],
            [
             0.5,
             "#f7f7f7"
            ],
            [
             0.6,
             "#e6f5d0"
            ],
            [
             0.7,
             "#b8e186"
            ],
            [
             0.8,
             "#7fbc41"
            ],
            [
             0.9,
             "#4d9221"
            ],
            [
             1,
             "#276419"
            ]
           ],
           "sequential": [
            [
             0,
             "#0d0887"
            ],
            [
             0.1111111111111111,
             "#46039f"
            ],
            [
             0.2222222222222222,
             "#7201a8"
            ],
            [
             0.3333333333333333,
             "#9c179e"
            ],
            [
             0.4444444444444444,
             "#bd3786"
            ],
            [
             0.5555555555555556,
             "#d8576b"
            ],
            [
             0.6666666666666666,
             "#ed7953"
            ],
            [
             0.7777777777777778,
             "#fb9f3a"
            ],
            [
             0.8888888888888888,
             "#fdca26"
            ],
            [
             1,
             "#f0f921"
            ]
           ],
           "sequentialminus": [
            [
             0,
             "#0d0887"
            ],
            [
             0.1111111111111111,
             "#46039f"
            ],
            [
             0.2222222222222222,
             "#7201a8"
            ],
            [
             0.3333333333333333,
             "#9c179e"
            ],
            [
             0.4444444444444444,
             "#bd3786"
            ],
            [
             0.5555555555555556,
             "#d8576b"
            ],
            [
             0.6666666666666666,
             "#ed7953"
            ],
            [
             0.7777777777777778,
             "#fb9f3a"
            ],
            [
             0.8888888888888888,
             "#fdca26"
            ],
            [
             1,
             "#f0f921"
            ]
           ]
          },
          "colorway": [
           "#636efa",
           "#EF553B",
           "#00cc96",
           "#ab63fa",
           "#FFA15A",
           "#19d3f3",
           "#FF6692",
           "#B6E880",
           "#FF97FF",
           "#FECB52"
          ],
          "font": {
           "color": "#2a3f5f"
          },
          "geo": {
           "bgcolor": "white",
           "lakecolor": "white",
           "landcolor": "#E5ECF6",
           "showlakes": true,
           "showland": true,
           "subunitcolor": "white"
          },
          "hoverlabel": {
           "align": "left"
          },
          "hovermode": "closest",
          "mapbox": {
           "style": "light"
          },
          "paper_bgcolor": "white",
          "plot_bgcolor": "#E5ECF6",
          "polar": {
           "angularaxis": {
            "gridcolor": "white",
            "linecolor": "white",
            "ticks": ""
           },
           "bgcolor": "#E5ECF6",
           "radialaxis": {
            "gridcolor": "white",
            "linecolor": "white",
            "ticks": ""
           }
          },
          "scene": {
           "xaxis": {
            "backgroundcolor": "#E5ECF6",
            "gridcolor": "white",
            "gridwidth": 2,
            "linecolor": "white",
            "showbackground": true,
            "ticks": "",
            "zerolinecolor": "white"
           },
           "yaxis": {
            "backgroundcolor": "#E5ECF6",
            "gridcolor": "white",
            "gridwidth": 2,
            "linecolor": "white",
            "showbackground": true,
            "ticks": "",
            "zerolinecolor": "white"
           },
           "zaxis": {
            "backgroundcolor": "#E5ECF6",
            "gridcolor": "white",
            "gridwidth": 2,
            "linecolor": "white",
            "showbackground": true,
            "ticks": "",
            "zerolinecolor": "white"
           }
          },
          "shapedefaults": {
           "line": {
            "color": "#2a3f5f"
           }
          },
          "ternary": {
           "aaxis": {
            "gridcolor": "white",
            "linecolor": "white",
            "ticks": ""
           },
           "baxis": {
            "gridcolor": "white",
            "linecolor": "white",
            "ticks": ""
           },
           "bgcolor": "#E5ECF6",
           "caxis": {
            "gridcolor": "white",
            "linecolor": "white",
            "ticks": ""
           }
          },
          "title": {
           "x": 0.05
          },
          "xaxis": {
           "automargin": true,
           "gridcolor": "white",
           "linecolor": "white",
           "ticks": "",
           "title": {
            "standoff": 15
           },
           "zerolinecolor": "white",
           "zerolinewidth": 2
          },
          "yaxis": {
           "automargin": true,
           "gridcolor": "white",
           "linecolor": "white",
           "ticks": "",
           "title": {
            "standoff": 15
           },
           "zerolinecolor": "white",
           "zerolinewidth": 2
          }
         }
        },
        "xaxis": {
         "anchor": "y",
         "domain": [
          0,
          1
         ],
         "showticklabels": false
        },
        "yaxis": {
         "anchor": "x",
         "domain": [
          0,
          1
         ],
         "showticklabels": false
        }
       }
      }
     },
     "metadata": {}
    }
   ],
   "source": [
    "# Show randomm image\n",
    "DrillFR4.show_random_image()"
   ]
  },
  {
   "source": [
    "## 2. Train VAE"
   ],
   "cell_type": "markdown",
   "metadata": {}
  },
  {
   "cell_type": "code",
   "execution_count": null,
   "metadata": {},
   "outputs": [],
   "source": [
    "# Prepare data for training\n",
    "data = DrllFR4.X.astype('float32')\n",
    "data = shuffle(data, random_state=0)\n",
    "\n",
    "TRAIN_BUF = int(data.shape[0]*0.9)\n",
    "data_train = data[:TRAIN_BUF]\n",
    "data_validation = data[TRAIN_BUF:]"
   ]
  },
  {
   "cell_type": "code",
   "execution_count": null,
   "metadata": {},
   "outputs": [],
   "source": [
    "# Parameters\n",
    "batch_size = 128\n",
    "epochs = 10000\n",
    "early_stop_patience = 15\n",
    "latent_dim = 8\n",
    "optimizer = Lookahead(Adam(1e-3))"
   ]
  },
  {
   "cell_type": "code",
   "execution_count": null,
   "metadata": {},
   "outputs": [],
   "source": [
    "train_dataset = tf.data.Dataset.from_tensor_slices(data_train).batch(batch_size)\n",
    "validation_dataset = tf.data.Dataset.from_tensor_slices(data_validation).batch(batch_size)\n",
    "nb_features = data.shape[1]*data.shape[2]*data.shape[3]\n",
    "input_shape = (batch_size, data.shape[1], data.shape[2], data.shape[3])"
   ]
  },
  {
   "cell_type": "code",
   "execution_count": null,
   "metadata": {},
   "outputs": [],
   "source": [
    "# Encoder and decoder networks (inference and generative)\n",
    "inference_net = tf.keras.Sequential(\n",
    "      [\n",
    "          InputLayer(input_shape=(data.shape[1], data.shape[2], data.shape[3])),\n",
    "          Conv2D(filters=4, kernel_size=3, strides=(1, 1), activation='tanh'),\n",
    "          MaxPool2D((2,2)),\n",
    "          BatchNormalization(),\n",
    "          Conv2D(filters=8, kernel_size=3, strides=(1, 1), activation='tanh'),\n",
    "          MaxPool2D((2,2)),\n",
    "          BatchNormalization(),\n",
    "          Flatten(),\n",
    "          Dense(latent_dim + latent_dim),\n",
    "      ]\n",
    "    )\n",
    "\n",
    "generative_net = tf.keras.Sequential(\n",
    "        [\n",
    "            InputLayer(input_shape=(latent_dim,)),\n",
    "            Dense(units=data.shape[1]*data.shape[2]*4, activation='tanh'),\n",
    "            BatchNormalization(),\n",
    "            Reshape(target_shape=(data.shape[1], data.shape[2], 4)),\n",
    "            Conv2DTranspose(\n",
    "              filters=8,\n",
    "              kernel_size=3,\n",
    "              strides=(1, 1),\n",
    "              padding=\"SAME\",\n",
    "              activation='tanh'),\n",
    "            BatchNormalization(),\n",
    "            Conv2DTranspose(\n",
    "              filters=4,\n",
    "              kernel_size=3,\n",
    "              strides=(1, 1),\n",
    "              padding=\"SAME\",\n",
    "              activation='tanh'),\n",
    "            BatchNormalization(),\n",
    "            Conv2DTranspose(\n",
    "              filters=3, kernel_size=3, strides=(1, 1), padding=\"SAME\"),\n",
    "        ]\n",
    "    )"
   ]
  },
  {
   "cell_type": "code",
   "execution_count": null,
   "metadata": {},
   "outputs": [],
   "source": [
    "# Model definition\n",
    "model = VAE(DrillFR4.name, latent_dim, input_shape, inference_net, generative_net)"
   ]
  },
  {
   "cell_type": "code",
   "execution_count": null,
   "metadata": {},
   "outputs": [],
   "source": [
    "# Train\n",
    "model = model.train(optimizer, \n",
    "                    train_dataset, \n",
    "                    validation_dataset, \n",
    "                    epochs,\n",
    "                    batch_size,\n",
    "                    early_stop_patience = early_stop_patience, \n",
    "                    freq_plot = 25, \n",
    "                    plot_test = True,\n",
    "                    n_to_plot = 4)"
   ]
  },
  {
   "source": [
    "## 3. Latent analysis"
   ],
   "cell_type": "markdown",
   "metadata": {}
  },
  {
   "cell_type": "code",
   "execution_count": null,
   "metadata": {},
   "outputs": [],
   "source": [
    "# Create latent object\n",
    "LatentDrillFR4 = Latent(data, model)"
   ]
  },
  {
   "cell_type": "code",
   "execution_count": null,
   "metadata": {},
   "outputs": [],
   "source": [
    "# Encode and decode data\n",
    "LatentDrillFR4.encode_data()\n",
    "LatentDrillFR4.decode_data()"
   ]
  },
  {
   "cell_type": "code",
   "execution_count": null,
   "metadata": {},
   "outputs": [],
   "source": [
    "# Create tsne representation of data in latent space\n",
    "LatentDrillFR4.latent_tsne()\n",
    "LatentDrillFR4.plot_latent_tsne()"
   ]
  },
  {
   "cell_type": "code",
   "execution_count": null,
   "metadata": {},
   "outputs": [],
   "source": [
    "# Compute distributions of latent space dimensions\n",
    "LatentDrillFR4.compute_dist_coord()\n",
    "LatentDrillFR4.plot_latent_dist_coord()"
   ]
  },
  {
   "cell_type": "code",
   "execution_count": null,
   "metadata": {},
   "outputs": [],
   "source": [
    "# Perform clustering in latent space, test number of cluesters on a grid\n",
    "LatentDrillFR4.latent_space_clustering(grid=range(5,50,5))\n",
    "LatentDrillFR4.plot_silhouette_score()"
   ]
  },
  {
   "cell_type": "code",
   "execution_count": null,
   "metadata": {},
   "outputs": [],
   "source": [
    "# Select number of clusters\n",
    "n_clusters = 2\n",
    "clusterer = LatentDrillFR4.dico_clust[n_clusters]['clusterer']\n",
    "LatentDrillFR4.plot_latent_tsne(clusterer=clusterer)"
   ]
  },
  {
   "cell_type": "code",
   "execution_count": null,
   "metadata": {},
   "outputs": [],
   "source": [
    "# Show images for a given cluster\n",
    "label = 0\n",
    "list_id = [i for i,l in enumerate(clusterer.labels_) if l==label][0:5]\n",
    "LatentDrillFR4.plot_encoded_decoded(list_id=list_id)"
   ]
  },
  {
   "cell_type": "code",
   "execution_count": null,
   "metadata": {},
   "outputs": [],
   "source": [
    "# Generate images by sampling from distributions in the latent space\n",
    "list_z, fig = LatentDrillFR4.generate_image(n=5, method='dist')\n",
    "fig.show()"
   ]
  },
  {
   "cell_type": "code",
   "execution_count": null,
   "metadata": {},
   "outputs": [],
   "source": [
    "# Create a GIF from generated images\n",
    "filename = f\"outputs/gif_{LatentDrillFR4.name}.gif\"\n",
    "LatentDrillFR4.create_gif(list_z)"
   ]
  }
 ]
}